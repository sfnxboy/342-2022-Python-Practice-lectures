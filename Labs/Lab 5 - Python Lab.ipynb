{
 "cells": [
  {
   "cell_type": "markdown",
   "metadata": {},
   "source": [
    "# Lab 5 - Python Lab\n",
    "## Author: *your name here*\n",
    "## Due: Check GitHub\n",
    "\n",
    "1. Create a 2x2 matrix with the first column 1's and the next column iid normals. Find the absolute value of the angle (in degrees, not radians) between the two columns in absolute difference from 90 degrees.\n",
    "\n",
    "Hint: Use the `numpy` library."
   ]
  },
  {
   "cell_type": "code",
   "execution_count": 1,
   "metadata": {},
   "outputs": [],
   "source": [
    "#TO-DO"
   ]
  },
  {
   "cell_type": "markdown",
   "metadata": {},
   "source": [
    "2. Repeat this exercise `Nsim = 1e5` times and report the average absolute angle."
   ]
  },
  {
   "cell_type": "code",
   "execution_count": null,
   "metadata": {},
   "outputs": [],
   "source": [
    "#TO-DO"
   ]
  },
  {
   "cell_type": "markdown",
   "metadata": {},
   "source": [
    "3. Create a n x 2 matrix with the first column 1's and the next column iid normals. Find the absolute value of the angle (in degrees, not radians) between the two columns. For n = 10, 50, 100, 200, 500, 1000, report the average absolute angle over `Nsim = 1e5` simulations."
   ]
  },
  {
   "cell_type": "code",
   "execution_count": null,
   "metadata": {},
   "outputs": [],
   "source": [
    "#TO-DO"
   ]
  },
  {
   "cell_type": "markdown",
   "metadata": {},
   "source": [
    "4. What is this absolute angle difference from 90 degrees converging to? Why does this make sense?\n",
    "\n",
    "#TO-DO\n",
    "\n",
    "5. Create a vector y by simulating n = 100 standard iid normals. Create a matrix of size 100 x 2 and populate the first column by all ones (for the intercept) and the second column by 100 standard iid normals. Find the $R^2$ of an OLS regression of `y ~ X`. Use matrix algebra.\n",
    "\n",
    "Hint: Utilize the `numpy` library."
   ]
  },
  {
   "cell_type": "code",
   "execution_count": null,
   "metadata": {},
   "outputs": [],
   "source": [
    "#TO-DO"
   ]
  },
  {
   "cell_type": "markdown",
   "metadata": {},
   "source": [
    "6. Write a for loop to each time bind a new column of 100 standard iid normals to the matrix `X` and find the $R^2$ each time until the number of columns is 100. Create a vector to save all $R^2$'s."
   ]
  },
  {
   "cell_type": "code",
   "execution_count": null,
   "metadata": {},
   "outputs": [],
   "source": [
    "#TO-DO"
   ]
  },
  {
   "cell_type": "markdown",
   "metadata": {},
   "source": [
    "7. In a few words explain what happened.\n",
    "\n",
    "#TO-DO\n",
    "\n",
    "8. Test that the projection matrix onto this `X` is the same as $I_n$."
   ]
  },
  {
   "cell_type": "code",
   "execution_count": null,
   "metadata": {},
   "outputs": [],
   "source": [
    "#TO-DO"
   ]
  },
  {
   "cell_type": "markdown",
   "metadata": {},
   "source": [
    "9. Add one final column to X to bring the number of columns to 101. Then try to compute $R^2$. What happens? "
   ]
  },
  {
   "cell_type": "code",
   "execution_count": null,
   "metadata": {},
   "outputs": [],
   "source": [
    "#TO-DO"
   ]
  },
  {
   "cell_type": "markdown",
   "metadata": {},
   "source": [
    "10. Why does this make sense?\n",
    "\n",
    "#TO-DO\n",
    "\n",
    "11. Write a function spec'd as follows:\n",
    "\n",
    "Use `numpy.matrix` functions to write the body of the function. "
   ]
  },
  {
   "cell_type": "code",
   "execution_count": null,
   "metadata": {},
   "outputs": [],
   "source": [
    "def orthogonal_projection(a, v):\n",
    "    \"\"\"\n",
    "    Orthogonal Projection\n",
    "    \n",
    "    Description\n",
    "    -----------\n",
    "    Projects vector a onto v\n",
    "    \n",
    "    Parameters\n",
    "    ----------\n",
    "    a: the vector to project\n",
    "    v: the vector projected onto\n",
    "    \n",
    "    Return\n",
    "    ------\n",
    "    A list of two vectors, the orthogonal projection parallel to v named a_parallel,\n",
    "    and the orthogonal error orthogonal to v called a_perpendicular\n",
    "    \"\"\"\n",
    "    #TO-DO\n",
    "    return [a_parallel, a_perpendicular]"
   ]
  },
  {
   "cell_type": "markdown",
   "metadata": {},
   "source": [
    "12. Provide predictions for each of these computations and then run them to make sure you're correct."
   ]
  },
  {
   "cell_type": "code",
   "execution_count": null,
   "metadata": {},
   "outputs": [],
   "source": [
    "orthogonal_projection([1, 2, 3, 4], [1, 2, 3, 4])\n",
    "\n",
    "orthogonal_projection([1, 2, 3, 4], [0, 2, 0, -1])\n",
    "\n",
    "result = orthogonal_projection([2, 6, 7, 3], [1, 3, 5, 7])\n",
    "print(result[0].transpose() @  result[1])\n",
    "print(result[0] + result[1])\n",
    "print(result[0] / [1, 3, 5, 7])"
   ]
  },
  {
   "cell_type": "markdown",
   "metadata": {},
   "source": [
    "13. Let's use the Boston Housing Data for the following exercises. Import the boston housing dataset."
   ]
  },
  {
   "cell_type": "code",
   "execution_count": null,
   "metadata": {},
   "outputs": [],
   "source": [
    "#TO-DO\n",
    "y =\n",
    "X =\n",
    "p_plus_one =\n",
    "n = "
   ]
  },
  {
   "cell_type": "markdown",
   "metadata": {},
   "source": [
    "14. Using your function `orthogonal_projection` orthogonally project onto the column space of X by projecting y on each vector of X individually and adding up the projections and call the sum `yhat_naive`."
   ]
  },
  {
   "cell_type": "code",
   "execution_count": null,
   "metadata": {},
   "outputs": [],
   "source": [
    "#TO-DO\n",
    "yhat_naive ="
   ]
  },
  {
   "cell_type": "markdown",
   "metadata": {},
   "source": [
    "15. How much double counting occurred? Measure the magnitude relative to the true LS orthogonal projection."
   ]
  },
  {
   "cell_type": "code",
   "execution_count": null,
   "metadata": {},
   "outputs": [],
   "source": [
    "#TO-DO\n",
    "yhat = \n",
    "np.sqrt(np.sum(yhat_naive**2)) / np.sqrt(np.sum(yhat**2))"
   ]
  },
  {
   "cell_type": "markdown",
   "metadata": {},
   "source": [
    "16. Is this ratio expected? Why or why not?\n",
    "\n",
    "#TO-DO\n",
    "\n",
    "17. Convert X into V where V has the same column space as X but has orthogonal columns. You can use the function `orthogonal_projection`. This is the Gram-Schmidt orthogonalization algorithm."
   ]
  },
  {
   "cell_type": "code",
   "execution_count": null,
   "metadata": {},
   "outputs": [],
   "source": [
    "V = np.empty(shape = [n, p_plus_one])\n",
    "#TO-DO"
   ]
  },
  {
   "cell_type": "markdown",
   "metadata": {},
   "source": [
    "18. Convert V into Q whose columns are the same except normalized."
   ]
  },
  {
   "cell_type": "code",
   "execution_count": null,
   "metadata": {},
   "outputs": [],
   "source": [
    "Q = np.empty(shape = [n, p_plus_one])\n",
    "#TO-DO"
   ]
  },
  {
   "cell_type": "markdown",
   "metadata": {},
   "source": [
    "19. Verify $Q^T Q$ is $I_{p+1}$ i.e. Q is an orthonormal matrix."
   ]
  },
  {
   "cell_type": "code",
   "execution_count": null,
   "metadata": {},
   "outputs": [],
   "source": [
    "#TO-DO"
   ]
  },
  {
   "cell_type": "markdown",
   "metadata": {},
   "source": [
    "20. Is your Q the same as what results from NumPy's built-in QR-decomposition function? [Link](https://numpy.org/doc/stable/reference/generated/numpy.linalg.qr.html)."
   ]
  },
  {
   "cell_type": "code",
   "execution_count": null,
   "metadata": {},
   "outputs": [],
   "source": [
    "#TO-DO"
   ]
  },
  {
   "cell_type": "markdown",
   "metadata": {},
   "source": [
    "21. Is this expected? Why did this happen?\n",
    "\n",
    "#TO-DO\n",
    "\n",
    "22. Project y onto colsp[Q] and verify it is the same as the OLS fit. You may have to use the function `unname` to compare the vectors since they the entries will likely have different names."
   ]
  },
  {
   "cell_type": "code",
   "execution_count": null,
   "metadata": {},
   "outputs": [],
   "source": [
    "#TO-DO"
   ]
  },
  {
   "cell_type": "markdown",
   "metadata": {},
   "source": [
    "23. Project y onto colsp[Q] one by one and verify it sums to be the projection onto the whole space."
   ]
  },
  {
   "cell_type": "code",
   "execution_count": null,
   "metadata": {},
   "outputs": [],
   "source": [
    "#TO-DO\n",
    "yhat_naive ="
   ]
  },
  {
   "cell_type": "markdown",
   "metadata": {},
   "source": [
    "24. Split the Boston Housing Data into a training set and a test set where the training set is 80% of the observations. Do so at random."
   ]
  },
  {
   "cell_type": "code",
   "execution_count": null,
   "metadata": {},
   "outputs": [],
   "source": [
    "#TO-DO"
   ]
  },
  {
   "cell_type": "markdown",
   "metadata": {},
   "source": [
    "25. Fit an OLS model. Find the s_e in sample and out of sample. Which one is greater? Note: we are now using s_e and not RMSE since RMSE has the n-(p + 1) in the denominator not n-1 which attempts to de-bias the error estimate by inflating the estimate when overfitting in high p. Again, we're just using `numpy.std(e)`, the sample standard deviation of the residuals."
   ]
  },
  {
   "cell_type": "code",
   "execution_count": null,
   "metadata": {},
   "outputs": [],
   "source": [
    "#TO-DO"
   ]
  },
  {
   "cell_type": "markdown",
   "metadata": {},
   "source": [
    "26. Do these two exercises `Nsim = 1000` times and find the average difference between s_e and ooss_e. "
   ]
  },
  {
   "cell_type": "code",
   "execution_count": null,
   "metadata": {},
   "outputs": [],
   "source": [
    "#TO-DO"
   ]
  },
  {
   "cell_type": "markdown",
   "metadata": {},
   "source": [
    "27. Add random junk to the data so that `p_plus_one = n_train` and create a new data matrix `X_with_junk.`"
   ]
  },
  {
   "cell_type": "code",
   "execution_count": null,
   "metadata": {},
   "outputs": [],
   "source": [
    "#TO-DO"
   ]
  },
  {
   "cell_type": "markdown",
   "metadata": {},
   "source": [
    "28. Repeat the exercise above measuring the average s_e and ooss_e but this time record these metrics by number of features used. That is, do it for the first column of `X_with_junk` (the intercept column), then do it for the first and second columns, then the first three columns, etc until you do it for all columns of `X_with_junk`. Save these in `s_e_by_p` and `ooss_e_by_p`."
   ]
  },
  {
   "cell_type": "code",
   "execution_count": null,
   "metadata": {},
   "outputs": [],
   "source": [
    "#TO-DO"
   ]
  },
  {
   "cell_type": "markdown",
   "metadata": {},
   "source": [
    "29. Graph the in sample and out of sample standard error."
   ]
  },
  {
   "cell_type": "code",
   "execution_count": null,
   "metadata": {},
   "outputs": [],
   "source": [
    "#TO-DO"
   ]
  },
  {
   "cell_type": "markdown",
   "metadata": {},
   "source": [
    "Is this shape expected? Explain.\n",
    "\n",
    "#TO-DO"
   ]
  }
 ],
 "metadata": {
  "kernelspec": {
   "display_name": "Python 3 (ipykernel)",
   "language": "python",
   "name": "python3"
  },
  "language_info": {
   "codemirror_mode": {
    "name": "ipython",
    "version": 3
   },
   "file_extension": ".py",
   "mimetype": "text/x-python",
   "name": "python",
   "nbconvert_exporter": "python",
   "pygments_lexer": "ipython3",
   "version": "3.9.7"
  }
 },
 "nbformat": 4,
 "nbformat_minor": 4
}
