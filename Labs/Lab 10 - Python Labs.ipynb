{
 "cells": [
  {
   "cell_type": "markdown",
   "id": "24be6540",
   "metadata": {},
   "source": [
    "# Lab 10 - Python Lab\n",
    "## Author: *your name here*\n",
    "## Date: NOT DUE\n",
    "\n",
    "1. Load up the Boston Housing Data and separate into `X` and `y`."
   ]
  },
  {
   "cell_type": "code",
   "execution_count": null,
   "id": "456f4f53",
   "metadata": {},
   "outputs": [],
   "source": [
    "#TO-DO"
   ]
  },
  {
   "cell_type": "markdown",
   "id": "76d5b9f0",
   "metadata": {},
   "source": [
    "2. Similar to lab 1, write a function that takes a matrix and punches holes (i.e. sets entries equal to `NA`) randomly with an argument `prob_missing`."
   ]
  },
  {
   "cell_type": "code",
   "execution_count": null,
   "id": "ce2bdc1d",
   "metadata": {},
   "outputs": [],
   "source": [
    "#TO-DO"
   ]
  },
  {
   "cell_type": "markdown",
   "id": "4d6e8ede",
   "metadata": {},
   "source": [
    "3. Create a matrix `Xmiss` which is `X` but has missingness with probability of 10% using the function you just wrote.\n"
   ]
  },
  {
   "cell_type": "code",
   "execution_count": null,
   "id": "8e7a4ef8",
   "metadata": {},
   "outputs": [],
   "source": [
    "#TO-DO"
   ]
  },
  {
   "cell_type": "markdown",
   "id": "acfeaa55",
   "metadata": {},
   "source": [
    "4. What type of missing data mechanism created the missingness in `Xmiss`?\n",
    "\n",
    "*#TO_DO*\n",
    "\n",
    "5. Impute using the feature averages to create a matrix `Ximpnaive`."
   ]
  },
  {
   "cell_type": "code",
   "execution_count": null,
   "id": "ecfbd89f",
   "metadata": {},
   "outputs": [],
   "source": [
    "#TO-DO"
   ]
  },
  {
   "cell_type": "markdown",
   "id": "b1acffa7",
   "metadata": {},
   "source": [
    "6. Use `MissForest` from the `missingpy` library to impute the missing entries to create a matrix `XimpMF`."
   ]
  },
  {
   "cell_type": "code",
   "execution_count": null,
   "id": "6fb345b7",
   "metadata": {},
   "outputs": [],
   "source": [
    "#TO-DO"
   ]
  },
  {
   "cell_type": "markdown",
   "id": "752af62a",
   "metadata": {},
   "source": [
    "7. What is the s_e of the error for both the naive imputation with feature averages and the intelligent imputation with missForest?\n"
   ]
  },
  {
   "cell_type": "code",
   "execution_count": null,
   "id": "03ccb608",
   "metadata": {},
   "outputs": [],
   "source": [
    "#TO-DO"
   ]
  },
  {
   "cell_type": "markdown",
   "id": "0fc95e48",
   "metadata": {},
   "source": [
    "8. Create a function that creates missingness in the feature `rm` that is a MAR missing data mechanism.\n"
   ]
  },
  {
   "cell_type": "code",
   "execution_count": null,
   "id": "1f00450c",
   "metadata": {},
   "outputs": [],
   "source": [
    "#TO-DO"
   ]
  },
  {
   "cell_type": "markdown",
   "id": "f3a9b772",
   "metadata": {},
   "source": [
    "9. Create a function that creates missingness in the feature `rm` that is a NMAR missing data mechanism.\n"
   ]
  },
  {
   "cell_type": "code",
   "execution_count": null,
   "id": "55790f6b",
   "metadata": {},
   "outputs": [],
   "source": [
    "#TO-DO"
   ]
  },
  {
   "cell_type": "markdown",
   "id": "99d31c14",
   "metadata": {},
   "source": [
    "10. Run an OLS model on the diamonds dataset using only the features `carat` and `table`. Print out the coefficients.\n"
   ]
  },
  {
   "cell_type": "code",
   "execution_count": null,
   "id": "c33f29dd",
   "metadata": {},
   "outputs": [],
   "source": [
    "#TO-DO"
   ]
  },
  {
   "cell_type": "markdown",
   "id": "24476caa",
   "metadata": {},
   "source": [
    "11. Interpret the coefficient for `carat`.\n",
    "\n",
    "*#TO-DO*\n",
    "\n",
    "12. Run a logistic regression probability estimation model on the adult dataset using only the features `age` and `education_num`. Print out the coefficients. You can find the .csv in the datasets folder of the 342 Python repository [here](https://github.com/sfnxboy/342-2022-Python-Practice-lectures). If you select to see the data in raw format on Github, you can use that URl as a parameter in the `pd.read_csv()` function."
   ]
  },
  {
   "cell_type": "code",
   "execution_count": null,
   "id": "dd054ab7",
   "metadata": {},
   "outputs": [],
   "source": [
    "#TO-DO"
   ]
  },
  {
   "cell_type": "markdown",
   "id": "de4316b1",
   "metadata": {},
   "source": [
    "13. Interpret the coefficient for `education_num`\n",
    "\n",
    "*#TO-DO*\n",
    "\n",
    "14. Let y = the binary category which is 1 if the income is >50L and 0 if not and x = education_num. Let z = one of the causal variables that influences y directly. Is this an example of causal scenario A, B or C. Explain.\n",
    "\n",
    "*#TO-DO*\n",
    "\n",
    "15. In a matrix X, generate n = 200 observations each with p = 2,000 features which are all realizations from an iid N(0, 1) r.v. Then generate responses y, a vector of length n also from an iid N(0, 1) r.v."
   ]
  },
  {
   "cell_type": "code",
   "execution_count": null,
   "id": "2695cd37",
   "metadata": {},
   "outputs": [],
   "source": [
    "#TO-DO"
   ]
  },
  {
   "cell_type": "markdown",
   "id": "c2c9d514",
   "metadata": {},
   "source": [
    "16. Scan through each of the 2,000 features looking for the maximum R^2 between x_j and y among only the first 100 observations. Plot the x_j and y that has the highest R^2 for the first 100 observations.\n"
   ]
  },
  {
   "cell_type": "code",
   "execution_count": null,
   "id": "9356387d",
   "metadata": {},
   "outputs": [],
   "source": [
    "#TO-DO"
   ]
  },
  {
   "cell_type": "markdown",
   "id": "da6addbb",
   "metadata": {},
   "source": [
    "17. Now plot this x_j and y for all 200 observations."
   ]
  },
  {
   "cell_type": "code",
   "execution_count": null,
   "id": "5252efd7",
   "metadata": {},
   "outputs": [],
   "source": [
    "#TO-DO"
   ]
  },
  {
   "cell_type": "markdown",
   "id": "c4d4a402",
   "metadata": {},
   "source": [
    "18. Is this an example of a \"spurious correlation\"? Yes/no and explain.\n",
    "\n",
    "*#TO-DO*\n",
    "\n",
    "Run the following code to create dataset:"
   ]
  },
  {
   "cell_type": "code",
   "execution_count": null,
   "id": "fd3aa6e0",
   "metadata": {},
   "outputs": [],
   "source": [
    "# importing dependencies\n",
    "import numpy as np\n",
    "import pandas as pd\n",
    "\n",
    "# setting seed\n",
    "np.random.seed(1984)\n",
    "n = 200\n",
    "salary_data = pd.DataFrame({'is_male' : np.repeat(1, n/2),\n",
    "                            'height_in_inches' : np.random.normal(70, 3, n//2),\n",
    "                            'salary_in_thou' : np.random.normal(60, 15, n//2)}).append(\n",
    "              pd.DataFrame({'is_male' : np.repeat(0, n/2),\n",
    "                            'height_in_inches' : np.random.normal(64, 3, n//2),\n",
    "                            'salary_in_thou' : np.random.normal(50, 15, n//2)}),\n",
    "              ignore_index=True)\n",
    "\n",
    "salary_data"
   ]
  },
  {
   "cell_type": "code",
   "execution_count": null,
   "id": "c316a7df",
   "metadata": {},
   "outputs": [],
   "source": [
    "#TO-DO"
   ]
  },
  {
   "cell_type": "markdown",
   "id": "6e727667",
   "metadata": {},
   "source": [
    "19. Using the `salary_data` data frame, run an OLS model predicting `salary_in_thou` using `height_in_inches`. Output the coefficients."
   ]
  },
  {
   "cell_type": "code",
   "execution_count": null,
   "id": "ec4aa39a",
   "metadata": {},
   "outputs": [],
   "source": [
    "#TO-DO"
   ]
  },
  {
   "cell_type": "markdown",
   "id": "84c4e7e1",
   "metadata": {},
   "source": [
    "20. Interpret the coefficient of `height_in_inches`.\n",
    "\n",
    "*#TO-DO*\n",
    "\n",
    "21. Plot `salary_in_thou` vs `height_in_inches`."
   ]
  },
  {
   "cell_type": "code",
   "execution_count": null,
   "id": "ea91c638",
   "metadata": {},
   "outputs": [],
   "source": [
    "#TO-DO"
   ]
  },
  {
   "cell_type": "markdown",
   "id": "0f66872f",
   "metadata": {},
   "source": [
    "22. Now run an OLS model predicting `salary_in_thou` using both `height_in_inches` and `is_male`. Output the coefficients."
   ]
  },
  {
   "cell_type": "code",
   "execution_count": null,
   "id": "9c58562f",
   "metadata": {},
   "outputs": [],
   "source": [
    "#TO-DO"
   ]
  },
  {
   "cell_type": "markdown",
   "id": "a74730ba",
   "metadata": {},
   "source": [
    "23. Interpret the coefficient of `height_in_inches`.\n",
    " \n",
    "*#TO-DO*\n",
    "\n",
    "24. Although we didn't discuss this in class, the \\*'s in the summary of a linear model indicates there is evidence that this OLS slope coefficient is nonzero. In the first model, there was evidence that the OLS slope coefficient for `height_in_inches` was nonzero but in the second model there is no longer any evidence that the OLS slope coefficient for `height_in_inches`is nonzero. This may indicate that `is_male` is what type of variable? You'll have to run the linear model with the `statsmodels` package in order to answer this question.\n",
    "\n",
    "*#TO-DO*\n",
    "\n",
    "25. Of the three causal scenarios we discussed in class (A, B and C), what is the likely scenario here?\n",
    "\n",
    "\n",
    "*#TO-DO*\n",
    "\n",
    "26. Are we sure that `is_male` is a causal variable with respect to the phenomenon `salary_in_thou`? Yes/no and explain.\n",
    "\n",
    "\n",
    "*#TO-DO*\n",
    "\n",
    "27. In the `diamonds` data, consider the OLS model where the features are all second-order interactions. Use a cross-validated lasso (via the `linear_model.LassoCV()` function in the `sklearn` package) to select variables that are useful in predicting the dimaonds' prices. Print out a list of the selected variables, and a list of their coefficients. If this takes too long, subsample the data so there is n=2000 observations. Check out the documentation [here](https://scikit-learn.org/stable/modules/generated/sklearn.linear_model.LassoCV.html?highlight=lasso#sklearn.linear_model.LassoCV)."
   ]
  },
  {
   "cell_type": "code",
   "execution_count": null,
   "id": "259c29a2",
   "metadata": {},
   "outputs": [],
   "source": [
    "#TO-DO"
   ]
  },
  {
   "cell_type": "markdown",
   "id": "98fdf30a",
   "metadata": {},
   "source": [
    "28. In the `adult` data, consider the logistic regression model of all second-order interactions. Use a cross-validated elasticnet (by changing the penalty parameter via the `LogisticRegressionCV` function in the `sklearn` package) to select variables that are useful in predicting the binary income level. We never discussed lasso/elasticnet for logistic regression, but it is the same as regular logistic regression where you minimize the likelihood but now add the regularization penalty to the optimization problem. Print out a list of the selected variables, and a list of their corresponding coefficients. If this takes too long, subsample the data so there is n=2000 observations. Check out the documentation [here](https://scikit-learn.org/stable/modules/generated/sklearn.linear_model.LogisticRegressionCV.html?highlight=logistic#sklearn.linear_model.LogisticRegressionCV).\n"
   ]
  },
  {
   "cell_type": "code",
   "execution_count": null,
   "id": "6c06b754",
   "metadata": {},
   "outputs": [],
   "source": [
    "#TO-DO"
   ]
  },
  {
   "cell_type": "markdown",
   "id": "8e1bc8bc",
   "metadata": {},
   "source": [
    "29. Returning to the diamonds dataset, leave a 10% holdout and compare the oos performance of the linear model of all second-order interactions among the following three algorithms: a cross-validated ridge, a cross-validated lasso and a cross-validated elastic net (where alpha = 1/2).\n",
    "\n",
    "Here is some documentation for you:\n",
    "- [Linear Model - Ridge CV](https://scikit-learn.org/stable/modules/generated/sklearn.linear_model.RidgeClassifierCV.html#sklearn.linear_model.RidgeClassifierCV)\n",
    "- [Linear Model - Lasso CV](https://scikit-learn.org/stable/modules/generated/sklearn.linear_model.LassoCV.html?highlight=lasso#sklearn.linear_model.LassoCV)\n",
    "- [Linear Model - ElasticNet CV](https://scikit-learn.org/stable/modules/generated/sklearn.linear_model.ElasticNetCV.html#sklearn.linear_model.ElasticNetCV)"
   ]
  },
  {
   "cell_type": "code",
   "execution_count": null,
   "id": "871b1e4d",
   "metadata": {},
   "outputs": [],
   "source": [
    "#TO-DO"
   ]
  }
 ],
 "metadata": {
  "kernelspec": {
   "display_name": "Python 3 (ipykernel)",
   "language": "python",
   "name": "python3"
  },
  "language_info": {
   "codemirror_mode": {
    "name": "ipython",
    "version": 3
   },
   "file_extension": ".py",
   "mimetype": "text/x-python",
   "name": "python",
   "nbconvert_exporter": "python",
   "pygments_lexer": "ipython3",
   "version": "3.9.7"
  }
 },
 "nbformat": 4,
 "nbformat_minor": 5
}
