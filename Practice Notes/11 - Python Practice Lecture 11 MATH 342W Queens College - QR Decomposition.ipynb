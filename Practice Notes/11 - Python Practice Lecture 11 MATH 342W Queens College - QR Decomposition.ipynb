{
 "cells": [
  {
   "cell_type": "markdown",
   "metadata": {},
   "source": [
    "# Python Practice Lecture 11 MATH 342W Queens College - QR Decomposition\n",
    "## Author: Amir ElTabakh\n",
    "## Date: March 8, 2021\n",
    "\n",
    "## Agenda:\n",
    "* QR Decomposition\n",
    "\n",
    "## QR Decomposition\n",
    "\n",
    "Let's load the Boston Housing data again and regenerate all our quantities:"
   ]
  },
  {
   "cell_type": "code",
   "execution_count": 1,
   "metadata": {},
   "outputs": [
    {
     "data": {
      "text/html": [
       "<div>\n",
       "<style scoped>\n",
       "    .dataframe tbody tr th:only-of-type {\n",
       "        vertical-align: middle;\n",
       "    }\n",
       "\n",
       "    .dataframe tbody tr th {\n",
       "        vertical-align: top;\n",
       "    }\n",
       "\n",
       "    .dataframe thead th {\n",
       "        text-align: right;\n",
       "    }\n",
       "</style>\n",
       "<table border=\"1\" class=\"dataframe\">\n",
       "  <thead>\n",
       "    <tr style=\"text-align: right;\">\n",
       "      <th></th>\n",
       "      <th>INTERCEPT</th>\n",
       "      <th>CRIM</th>\n",
       "      <th>ZN</th>\n",
       "      <th>INDUS</th>\n",
       "      <th>CHAS</th>\n",
       "      <th>NOX</th>\n",
       "      <th>RM</th>\n",
       "      <th>AGE</th>\n",
       "      <th>DIS</th>\n",
       "      <th>RAD</th>\n",
       "      <th>TAX</th>\n",
       "      <th>PTRATIO</th>\n",
       "      <th>B</th>\n",
       "      <th>LSTAT</th>\n",
       "    </tr>\n",
       "  </thead>\n",
       "  <tbody>\n",
       "    <tr>\n",
       "      <th>0</th>\n",
       "      <td>1</td>\n",
       "      <td>0.00632</td>\n",
       "      <td>18.0</td>\n",
       "      <td>2.31</td>\n",
       "      <td>0.0</td>\n",
       "      <td>0.538</td>\n",
       "      <td>6.575</td>\n",
       "      <td>65.2</td>\n",
       "      <td>4.0900</td>\n",
       "      <td>1.0</td>\n",
       "      <td>296.0</td>\n",
       "      <td>15.3</td>\n",
       "      <td>396.90</td>\n",
       "      <td>4.98</td>\n",
       "    </tr>\n",
       "    <tr>\n",
       "      <th>1</th>\n",
       "      <td>1</td>\n",
       "      <td>0.02731</td>\n",
       "      <td>0.0</td>\n",
       "      <td>7.07</td>\n",
       "      <td>0.0</td>\n",
       "      <td>0.469</td>\n",
       "      <td>6.421</td>\n",
       "      <td>78.9</td>\n",
       "      <td>4.9671</td>\n",
       "      <td>2.0</td>\n",
       "      <td>242.0</td>\n",
       "      <td>17.8</td>\n",
       "      <td>396.90</td>\n",
       "      <td>9.14</td>\n",
       "    </tr>\n",
       "    <tr>\n",
       "      <th>2</th>\n",
       "      <td>1</td>\n",
       "      <td>0.02729</td>\n",
       "      <td>0.0</td>\n",
       "      <td>7.07</td>\n",
       "      <td>0.0</td>\n",
       "      <td>0.469</td>\n",
       "      <td>7.185</td>\n",
       "      <td>61.1</td>\n",
       "      <td>4.9671</td>\n",
       "      <td>2.0</td>\n",
       "      <td>242.0</td>\n",
       "      <td>17.8</td>\n",
       "      <td>392.83</td>\n",
       "      <td>4.03</td>\n",
       "    </tr>\n",
       "    <tr>\n",
       "      <th>3</th>\n",
       "      <td>1</td>\n",
       "      <td>0.03237</td>\n",
       "      <td>0.0</td>\n",
       "      <td>2.18</td>\n",
       "      <td>0.0</td>\n",
       "      <td>0.458</td>\n",
       "      <td>6.998</td>\n",
       "      <td>45.8</td>\n",
       "      <td>6.0622</td>\n",
       "      <td>3.0</td>\n",
       "      <td>222.0</td>\n",
       "      <td>18.7</td>\n",
       "      <td>394.63</td>\n",
       "      <td>2.94</td>\n",
       "    </tr>\n",
       "    <tr>\n",
       "      <th>4</th>\n",
       "      <td>1</td>\n",
       "      <td>0.06905</td>\n",
       "      <td>0.0</td>\n",
       "      <td>2.18</td>\n",
       "      <td>0.0</td>\n",
       "      <td>0.458</td>\n",
       "      <td>7.147</td>\n",
       "      <td>54.2</td>\n",
       "      <td>6.0622</td>\n",
       "      <td>3.0</td>\n",
       "      <td>222.0</td>\n",
       "      <td>18.7</td>\n",
       "      <td>396.90</td>\n",
       "      <td>5.33</td>\n",
       "    </tr>\n",
       "  </tbody>\n",
       "</table>\n",
       "</div>"
      ],
      "text/plain": [
       "   INTERCEPT     CRIM    ZN  INDUS  CHAS    NOX     RM   AGE     DIS  RAD  \\\n",
       "0          1  0.00632  18.0   2.31   0.0  0.538  6.575  65.2  4.0900  1.0   \n",
       "1          1  0.02731   0.0   7.07   0.0  0.469  6.421  78.9  4.9671  2.0   \n",
       "2          1  0.02729   0.0   7.07   0.0  0.469  7.185  61.1  4.9671  2.0   \n",
       "3          1  0.03237   0.0   2.18   0.0  0.458  6.998  45.8  6.0622  3.0   \n",
       "4          1  0.06905   0.0   2.18   0.0  0.458  7.147  54.2  6.0622  3.0   \n",
       "\n",
       "     TAX  PTRATIO       B  LSTAT  \n",
       "0  296.0     15.3  396.90   4.98  \n",
       "1  242.0     17.8  396.90   9.14  \n",
       "2  242.0     17.8  392.83   4.03  \n",
       "3  222.0     18.7  394.63   2.94  \n",
       "4  222.0     18.7  396.90   5.33  "
      ]
     },
     "execution_count": 1,
     "metadata": {},
     "output_type": "execute_result"
    }
   ],
   "source": [
    "# Lines below are just to ignore warnings\n",
    "import warnings\n",
    "warnings.filterwarnings('ignore')\n",
    "\n",
    "# Importing dependencies\n",
    "from sklearn import datasets\n",
    "import pandas as pd\n",
    "import numpy as np\n",
    "\n",
    "# Load the Boston Housing dataset as bh\n",
    "bh = datasets.load_boston()\n",
    "\n",
    "# Initialize target variable\n",
    "y = bh.target\n",
    "\n",
    "# Create Boston Housing df\n",
    "X = pd.DataFrame(data = bh.data, columns = bh.feature_names)\n",
    "\n",
    "# add intercept column\n",
    "X.insert(0, 'INTERCEPT', [1 for i in range(len(X))])\n",
    "\n",
    "# convert X to matrix object not dataframe\n",
    "X.to_numpy()\n",
    "\n",
    "# Load the first 5 rows of df\n",
    "X.head()"
   ]
  },
  {
   "cell_type": "code",
   "execution_count": 2,
   "metadata": {},
   "outputs": [
    {
     "data": {
      "text/plain": [
       "42716.2954150198"
      ]
     },
     "execution_count": 2,
     "metadata": {},
     "output_type": "execute_result"
    }
   ],
   "source": [
    "# SST\n",
    "ybar = np.mean(y)\n",
    "\n",
    "sst = sum((y - ybar)**2)\n",
    "sst"
   ]
  },
  {
   "cell_type": "code",
   "execution_count": 3,
   "metadata": {},
   "outputs": [],
   "source": [
    "n = len(X)\n",
    "p_plus_one = len(X.iloc[0, :])"
   ]
  },
  {
   "cell_type": "code",
   "execution_count": 4,
   "metadata": {},
   "outputs": [
    {
     "data": {
      "text/plain": [
       "array([ 3.64594884e+01, -1.08011358e-01,  4.64204584e-02,  2.05586264e-02,\n",
       "        2.68673382e+00, -1.77666112e+01,  3.80986521e+00,  6.92224640e-04,\n",
       "       -1.47556685e+00,  3.06049479e-01, -1.23345939e-02, -9.52747232e-01,\n",
       "        9.31168327e-03, -5.24758378e-01])"
      ]
     },
     "execution_count": 4,
     "metadata": {},
     "output_type": "execute_result"
    }
   ],
   "source": [
    "# solving for b\n",
    "Xt = X.transpose()\n",
    "XtXinv = np.linalg.inv(Xt @ X)\n",
    "b = (XtXinv @ Xt @ y).to_numpy() # np array object is easier to do matrix multi with\n",
    "b"
   ]
  },
  {
   "cell_type": "code",
   "execution_count": 5,
   "metadata": {},
   "outputs": [
    {
     "data": {
      "text/plain": [
       "0      30.003843\n",
       "1      25.025562\n",
       "2      30.567597\n",
       "3      28.607036\n",
       "4      27.943524\n",
       "         ...    \n",
       "501    23.533341\n",
       "502    22.375719\n",
       "503    27.627426\n",
       "504    26.127967\n",
       "505    22.344212\n",
       "Length: 506, dtype: float64"
      ]
     },
     "execution_count": 5,
     "metadata": {},
     "output_type": "execute_result"
    }
   ],
   "source": [
    "# solving for yhat\n",
    "yhat = X.dot(b)\n",
    "yhat"
   ]
  },
  {
   "cell_type": "code",
   "execution_count": 6,
   "metadata": {},
   "outputs": [
    {
     "data": {
      "text/plain": [
       "31637.510837063757"
      ]
     },
     "execution_count": 6,
     "metadata": {},
     "output_type": "execute_result"
    }
   ],
   "source": [
    "# SSR (sum of squared residuals)\n",
    "ssr = sum((yhat - ybar)**2)\n",
    "ssr"
   ]
  },
  {
   "cell_type": "code",
   "execution_count": 7,
   "metadata": {},
   "outputs": [
    {
     "data": {
      "text/plain": [
       "0.7406426641093847"
      ]
     },
     "execution_count": 7,
     "metadata": {},
     "output_type": "execute_result"
    }
   ],
   "source": [
    "# R^2\n",
    "Rsq = ssr / sst\n",
    "Rsq"
   ]
  },
  {
   "cell_type": "markdown",
   "metadata": {},
   "source": [
    "Now let's do the QR decomposition and see if the projections works. We'll use NumPy's `np.linalg.qr()` method."
   ]
  },
  {
   "cell_type": "code",
   "execution_count": 9,
   "metadata": {},
   "outputs": [
    {
     "name": "stdout",
     "output_type": "stream",
     "text": [
      "506\n",
      "14\n"
     ]
    }
   ],
   "source": [
    "print(n)\n",
    "print(p_plus_one)"
   ]
  },
  {
   "cell_type": "code",
   "execution_count": 10,
   "metadata": {},
   "outputs": [
    {
     "name": "stdout",
     "output_type": "stream",
     "text": [
      "(506, 14)\n",
      "(14, 14)\n"
     ]
    }
   ],
   "source": [
    "Q, R = np.linalg.qr(X)\n",
    "\n",
    "# output dimension of Q, R\n",
    "print(Q.shape)\n",
    "print(R.shape)"
   ]
  },
  {
   "cell_type": "code",
   "execution_count": 11,
   "metadata": {},
   "outputs": [
    {
     "name": "stdout",
     "output_type": "stream",
     "text": [
      "14\n",
      "14\n"
     ]
    }
   ],
   "source": [
    "# output rank of Q, R\n",
    "print(np.linalg.matrix_rank(Q))\n",
    "print(np.linalg.matrix_rank(R))"
   ]
  },
  {
   "cell_type": "code",
   "execution_count": 12,
   "metadata": {},
   "outputs": [
    {
     "data": {
      "text/plain": [
       "array([[-0.04445542, -0.01866158,  0.00910601, -0.05766684, -0.00830254],\n",
       "       [-0.04445542, -0.01855299, -0.02592754, -0.03907578, -0.01166524],\n",
       "       [-0.04445542, -0.0185531 , -0.02592756, -0.03907574, -0.01166525],\n",
       "       [-0.04445542, -0.01852682, -0.02592218, -0.07931947, -0.00856873],\n",
       "       [-0.04445542, -0.01833705, -0.02588335, -0.07939459, -0.00855013]])"
      ]
     },
     "execution_count": 12,
     "metadata": {},
     "output_type": "execute_result"
    }
   ],
   "source": [
    "# snapshot of Q\n",
    "Q[0:5, 0:5]"
   ]
  },
  {
   "cell_type": "code",
   "execution_count": 13,
   "metadata": {},
   "outputs": [
    {
     "data": {
      "text/plain": [
       "array([[-2.24944438e+01, -8.12842024e+01, -2.55618679e+02,\n",
       "        -2.50515641e+02, -1.55593979e+00],\n",
       "       [ 0.00000000e+00,  1.93295685e+02, -1.05067310e+02,\n",
       "         6.26818497e+01, -3.19018318e-01],\n",
       "       [ 0.00000000e+00,  0.00000000e+00,  5.13467576e+02,\n",
       "        -7.11779587e+01, -3.14032817e-01],\n",
       "       [ 0.00000000e+00,  0.00000000e+00,  0.00000000e+00,\n",
       "         1.21541052e+02,  4.36290368e-01],\n",
       "       [ 0.00000000e+00,  0.00000000e+00,  0.00000000e+00,\n",
       "         0.00000000e+00,  5.67347449e+00]])"
      ]
     },
     "execution_count": 13,
     "metadata": {},
     "output_type": "execute_result"
    }
   ],
   "source": [
    "# snapshot of R\n",
    "R[0:5, 0:5]"
   ]
  },
  {
   "cell_type": "code",
   "execution_count": 14,
   "metadata": {},
   "outputs": [
    {
     "data": {
      "text/plain": [
       "0.044455422447438706"
      ]
     },
     "execution_count": 14,
     "metadata": {},
     "output_type": "execute_result"
    }
   ],
   "source": [
    "1 / np.sqrt(n)"
   ]
  },
  {
   "cell_type": "code",
   "execution_count": 15,
   "metadata": {},
   "outputs": [
    {
     "name": "stdout",
     "output_type": "stream",
     "text": [
      "0.9999999999999996\n",
      "1.0000000000000004\n"
     ]
    }
   ],
   "source": [
    "# Is Q Normalized?\n",
    "print(sum(Q[:, 1]**2))\n",
    "print(sum(Q[:, 2]**2))"
   ]
  },
  {
   "cell_type": "code",
   "execution_count": 16,
   "metadata": {},
   "outputs": [
    {
     "name": "stdout",
     "output_type": "stream",
     "text": [
      "-3.469446951953614e-17\n",
      "-2.7755575615628914e-17\n"
     ]
    }
   ],
   "source": [
    "# Is Q Orthogonal?\n",
    "print(Q[:, 1] @ Q[:, 2])\n",
    "print(Q[:, 7] @ Q[:, 13])"
   ]
  },
  {
   "cell_type": "code",
   "execution_count": 17,
   "metadata": {},
   "outputs": [
    {
     "name": "stdout",
     "output_type": "stream",
     "text": [
      "0    30.003843\n",
      "1    25.025562\n",
      "2    30.567597\n",
      "3    28.607036\n",
      "4    27.943524\n",
      "dtype: float64\n",
      "[30.00384338 25.02556238 30.56759672 28.60703649 27.94352423]\n"
     ]
    }
   ],
   "source": [
    "# Get yhat via Q\n",
    "yhat_via_Q = Q @ Q.transpose() @ y\n",
    "\n",
    "# output yhats\n",
    "print(yhat[0:5])\n",
    "print(yhat_via_Q[0:5])"
   ]
  },
  {
   "cell_type": "markdown",
   "metadata": {},
   "source": [
    "Can we get the $b$ vector from the $Q$ matrix?"
   ]
  },
  {
   "cell_type": "code",
   "execution_count": 18,
   "metadata": {},
   "outputs": [
    {
     "data": {
      "text/plain": [
       "array([ 3.64594884e+01, -1.08011358e-01,  4.64204584e-02,  2.05586264e-02,\n",
       "        2.68673382e+00, -1.77666112e+01,  3.80986521e+00,  6.92224640e-04,\n",
       "       -1.47556685e+00,  3.06049479e-01, -1.23345939e-02, -9.52747232e-01,\n",
       "        9.31168327e-03, -5.24758378e-01])"
      ]
     },
     "execution_count": 18,
     "metadata": {},
     "output_type": "execute_result"
    }
   ],
   "source": [
    "np.linalg.inv(R) @ Q.transpose() @ y"
   ]
  },
  {
   "cell_type": "code",
   "execution_count": 19,
   "metadata": {},
   "outputs": [
    {
     "data": {
      "text/plain": [
       "array([-506.86294458,  -80.25448934,   59.61825389,  -50.50976574,\n",
       "         39.11326989,   -8.73198992,  104.58545124,    9.50094264,\n",
       "         42.18413341,   -5.84245863,  -18.15362413,  -36.18437976,\n",
       "        -24.35852139,  -49.10029215])"
      ]
     },
     "execution_count": 19,
     "metadata": {},
     "output_type": "execute_result"
    }
   ],
   "source": [
    "# These are the weights on the Q features to get back y.\n",
    "b_Q = Q.transpose() @ y  \n",
    "b_Q"
   ]
  },
  {
   "cell_type": "code",
   "execution_count": 22,
   "metadata": {
    "scrolled": true
   },
   "outputs": [
    {
     "data": {
      "text/plain": [
       "array([30.00384338, 25.02556238, 30.56759672, 28.60703649, 27.94352423,\n",
       "       25.25628446, 23.00180827, 19.53598843, 11.52363685, 18.92026211,\n",
       "       18.99949651, 21.58679568, 20.90652153, 19.55290281, 19.28348205,\n",
       "       19.29748321, 20.52750979, 16.91140135, 16.17801106, 18.40613603,\n",
       "       12.52385753, 17.67103669, 15.83288129, 13.80628535, 15.67833832,\n",
       "       13.38668561, 15.46397655, 14.70847428, 19.54737285, 20.8764282 ,\n",
       "       11.45511759, 18.05923295,  8.81105736, 14.28275814, 13.70675891,\n",
       "       23.81463526, 22.34193708, 23.10891142, 22.91502612, 31.35762569,\n",
       "       34.21510225, 28.02056414, 25.20386628, 24.60979273, 22.94149176,\n",
       "       22.09669817, 20.42320032, 18.03655088,  9.10655377, 17.20607751,\n",
       "       21.28152535, 23.97222285, 27.6558508 , 24.04901809, 15.3618477 ,\n",
       "       31.15264947, 24.85686978, 33.10919806, 21.77537987, 21.08493555,\n",
       "       17.8725804 , 18.51110208, 23.98742856, 22.55408869, 23.37308644,\n",
       "       30.36148358, 25.53056512, 21.11338564, 17.42153786, 20.78483633,\n",
       "       25.20148859, 21.7426577 , 24.55744957, 24.04295712, 25.50499716,\n",
       "       23.9669302 , 22.94545403, 23.35699818, 21.26198266, 22.42817373,\n",
       "       28.40576968, 26.99486086, 26.03576297, 25.05873482, 24.78456674,\n",
       "       27.79049195, 22.16853423, 25.89276415, 30.67461827, 30.83110623,\n",
       "       27.1190194 , 27.41266734, 28.94122762, 29.08105546, 27.03977365,\n",
       "       28.62459949, 24.72744978, 35.78159518, 35.11454587, 32.25102801,\n",
       "       24.58022019, 25.59413475, 19.79013684, 20.31167129, 21.43482591,\n",
       "       18.53994008, 17.18755992, 20.75049026, 22.64829115, 19.7720367 ,\n",
       "       20.64965864, 26.52586744, 20.77323638, 20.71548315, 25.17208881,\n",
       "       20.43025591, 23.37724626, 23.69043261, 20.33578364, 20.79180873,\n",
       "       21.91632071, 22.47107777, 20.55738556, 16.36661977, 20.56099819,\n",
       "       22.48178446, 14.61706633, 15.17876684, 18.93868592, 14.05573285,\n",
       "       20.03527399, 19.41013402, 20.06191566, 15.75807673, 13.25645238,\n",
       "       17.26277735, 15.87841883, 19.36163954, 13.81483897, 16.44881475,\n",
       "       13.57141932,  3.98885508, 14.59495478, 12.1488148 ,  8.72822362,\n",
       "       12.03585343, 15.82082058,  8.5149902 ,  9.71844139, 14.80451374,\n",
       "       20.83858153, 18.30101169, 20.12282558, 17.28601894, 22.36600228,\n",
       "       20.10375923, 13.62125891, 33.25982697, 29.03017268, 25.56752769,\n",
       "       32.70827666, 36.77467015, 40.55765844, 41.84728168, 24.78867379,\n",
       "       25.37889238, 37.20347455, 23.08748747, 26.40273955, 26.65382114,\n",
       "       22.5551466 , 24.29082812, 22.97657219, 29.07194308, 26.5219434 ,\n",
       "       30.72209056, 25.61669307, 29.13740979, 31.43571968, 32.92231568,\n",
       "       34.72440464, 27.76552111, 33.88787321, 30.99238036, 22.71820008,\n",
       "       24.7664781 , 35.88497226, 33.42476722, 32.41199147, 34.51509949,\n",
       "       30.76109485, 30.28934141, 32.91918714, 32.11260771, 31.55871004,\n",
       "       40.84555721, 36.12770079, 32.6692081 , 34.70469116, 30.09345162,\n",
       "       30.64393906, 29.28719501, 37.07148392, 42.03193124, 43.18949844,\n",
       "       22.69034796, 23.68284712, 17.85447214, 23.49428992, 17.00587718,\n",
       "       22.39251096, 17.06042754, 22.73892921, 25.21942554, 11.11916737,\n",
       "       24.51049148, 26.60334775, 28.35518713, 24.91525464, 29.68652768,\n",
       "       33.18419746, 23.77456656, 32.14051958, 29.7458199 , 38.37102453,\n",
       "       39.81461867, 37.58605755, 32.3995325 , 35.45665242, 31.23411512,\n",
       "       24.48449227, 33.28837292, 38.0481048 , 37.16328631, 31.71383523,\n",
       "       25.26705571, 30.10010745, 32.71987156, 28.42717057, 28.42940678,\n",
       "       27.29375938, 23.74262478, 24.12007891, 27.40208414, 16.3285756 ,\n",
       "       13.39891261, 20.01638775, 19.86184428, 21.2883131 , 24.0798915 ,\n",
       "       24.20633547, 25.04215821, 24.91964007, 29.94563374, 23.97228316,\n",
       "       21.69580887, 37.51109239, 43.30239043, 36.48361421, 34.98988594,\n",
       "       34.81211508, 37.16631331, 40.98928501, 34.44634089, 35.83397547,\n",
       "       28.245743  , 31.22673593, 40.8395575 , 39.31792393, 25.70817905,\n",
       "       22.30295533, 27.20340972, 28.51169472, 35.47676598, 36.10639164,\n",
       "       33.79668274, 35.61085858, 34.83993382, 30.35192656, 35.30980701,\n",
       "       38.79756966, 34.33123186, 40.33963075, 44.67308339, 31.59689086,\n",
       "       27.3565923 , 20.10174154, 27.04206674, 27.2136458 , 26.91395839,\n",
       "       33.43563311, 34.40349633, 31.8333982 , 25.81783237, 24.42982348,\n",
       "       28.45764337, 27.36266999, 19.53928758, 29.11309844, 31.91054611,\n",
       "       30.77159449, 28.94275871, 28.88191022, 32.79887232, 33.20905456,\n",
       "       30.76831792, 35.56226857, 32.70905124, 28.64244237, 23.58965827,\n",
       "       18.54266897, 26.87889843, 23.28133979, 25.54580246, 25.48120057,\n",
       "       20.53909901, 17.61572573, 18.37581686, 24.29070277, 21.32529039,\n",
       "       24.88682244, 24.86937282, 22.86952447, 19.45123791, 25.11783401,\n",
       "       24.66786913, 23.68076177, 19.34089616, 21.17418105, 24.25249073,\n",
       "       21.59260894, 19.98446605, 23.33888   , 22.14060692, 21.55509929,\n",
       "       20.61872907, 20.16097176, 19.28490387, 22.1667232 , 21.24965774,\n",
       "       21.42939305, 30.32788796, 22.04734975, 27.70647912, 28.54794117,\n",
       "       16.54501121, 14.78359641, 25.27380082, 27.54205117, 22.14837562,\n",
       "       20.45944095, 20.54605423, 16.88063827, 25.40253506, 14.32486632,\n",
       "       16.59488462, 19.63704691, 22.71806607, 22.20218887, 19.20548057,\n",
       "       22.66616105, 18.93192618, 18.22846804, 20.23150811, 37.4944739 ,\n",
       "       14.28190734, 15.54286248, 10.83162324, 23.80072902, 32.6440736 ,\n",
       "       34.60684042, 24.94331333, 25.9998091 ,  6.126325  ,  0.77779806,\n",
       "       25.30713064, 17.74061065, 20.23274414, 15.83331301, 16.83512587,\n",
       "       14.36994825, 18.47682833, 13.4276828 , 13.06177512,  3.27918116,\n",
       "        8.06022171,  6.12842196,  5.6186481 ,  6.4519857 , 14.20764735,\n",
       "       17.21225183, 17.29887265,  9.89116643, 20.22124193, 17.94181175,\n",
       "       20.30445783, 19.29559075, 16.33632779,  6.55162319, 10.89016778,\n",
       "       11.88145871, 17.81174507, 18.26126587, 12.97948781,  7.37816361,\n",
       "        8.21115861,  8.06626193, 19.98294786, 13.70756369, 19.85268454,\n",
       "       15.22308298, 16.96071981,  1.71851807, 11.80578387, -4.28131071,\n",
       "        9.58376737, 13.36660811,  6.89562363,  6.14779852, 14.60661794,\n",
       "       19.6000267 , 18.12427476, 18.52177132, 13.1752861 , 14.62617624,\n",
       "        9.92374976, 16.34590647, 14.07519426, 14.25756243, 13.04234787,\n",
       "       18.15955693, 18.69554354, 21.527283  , 17.03141861, 15.96090435,\n",
       "       13.36141611, 14.52079384,  8.81976005,  4.86751102, 13.06591313,\n",
       "       12.70609699, 17.29558059, 18.740485  , 18.05901029, 11.51474683,\n",
       "       11.97400359, 17.68344618, 18.12695239, 17.5183465 , 17.22742507,\n",
       "       16.52271631, 19.41291095, 18.58215236, 22.48944791, 15.28000133,\n",
       "       15.82089335, 12.68725581, 12.8763379 , 17.18668531, 18.51247609,\n",
       "       19.04860533, 20.17208927, 19.7740732 , 22.42940768, 20.31911854,\n",
       "       17.88616253, 14.37478523, 16.94776851, 16.98405762, 18.58838397,\n",
       "       20.16719441, 22.97718032, 22.45580726, 25.57824627, 16.39147632,\n",
       "       16.1114628 , 20.534816  , 11.54272738, 19.20496304, 21.86276391,\n",
       "       23.46878866, 27.09887315, 28.56994302, 21.08398783, 19.45516196,\n",
       "       22.22225914, 19.65591961, 21.32536104, 11.85583717,  8.22386687,\n",
       "        3.66399672, 13.75908538, 15.93118545, 20.62662054, 20.61249414,\n",
       "       16.88541964, 14.01320787, 19.10854144, 21.29805174, 18.45498841,\n",
       "       20.46870847, 23.53334055, 22.37571892, 27.6274261 , 26.12796681,\n",
       "       22.34421229])"
      ]
     },
     "execution_count": 22,
     "metadata": {},
     "output_type": "execute_result"
    }
   ],
   "source": [
    "# These are the yhats\n",
    "Q @ b_Q"
   ]
  },
  {
   "cell_type": "code",
   "execution_count": 26,
   "metadata": {
    "scrolled": true
   },
   "outputs": [
    {
     "data": {
      "text/plain": [
       "0      30.003843\n",
       "1      25.025562\n",
       "2      30.567597\n",
       "3      28.607036\n",
       "4      27.943524\n",
       "         ...    \n",
       "501    23.533341\n",
       "502    22.375719\n",
       "503    27.627426\n",
       "504    26.127967\n",
       "505    22.344212\n",
       "Length: 506, dtype: float64"
      ]
     },
     "execution_count": 26,
     "metadata": {},
     "output_type": "execute_result"
    }
   ],
   "source": [
    "# These are also the yhats\n",
    "X @ b"
   ]
  },
  {
   "cell_type": "markdown",
   "metadata": {},
   "source": [
    "Nope - this is not the same! Why not?\n",
    "\n",
    "Each dimension gives one piece of SSR and thus one piece of R^2 i.e. SSR = SSR_1 + ... + SSR_p and R^2 = R^2_1 + ... + R^2_p\n",
    "\n",
    "Our definition of SSR removed the ybar i.e. the contribution of the intercept. So we will do so here. That is the first column of $Q$. Now we add up all the features besides the intercept."
   ]
  },
  {
   "cell_type": "code",
   "execution_count": 27,
   "metadata": {},
   "outputs": [
    {
     "name": "stdout",
     "output_type": "stream",
     "text": [
      "31637.51083706481\n",
      "31637.510837063757\n"
     ]
    }
   ],
   "source": [
    "# SSR list (you can populate an empty list)\n",
    "partial_SSRs = []\n",
    "\n",
    "for j in range(1, p_plus_one):\n",
    "    # get row at column j\n",
    "    qj = Q[:, j]\n",
    "    \n",
    "    # calculate yhat_j - we'll use the `.dot()` method for matrix multiplication\n",
    "    yhat_j = qj.dot(qj.transpose().dot(y))\n",
    "    \n",
    "    # casting to int to round\n",
    "    SSR_j = sum(yhat_j**2)\n",
    "    \n",
    "    # add value to end of list\n",
    "    partial_SSRs += [SSR_j]\n",
    "    \n",
    "print(sum(partial_SSRs))\n",
    "print(ssr)"
   ]
  },
  {
   "cell_type": "code",
   "execution_count": 28,
   "metadata": {},
   "outputs": [
    {
     "name": "stdout",
     "output_type": "stream",
     "text": [
      "42716.2954150198\n"
     ]
    }
   ],
   "source": [
    "# output SST\n",
    "print(sst)"
   ]
  },
  {
   "cell_type": "code",
   "execution_count": 29,
   "metadata": {},
   "outputs": [
    {
     "name": "stdout",
     "output_type": "stream",
     "text": [
      "[0.15078047 0.08320797 0.05972513 0.03581415 0.00178498 0.25606426\n",
      " 0.0021132  0.0416586  0.00079909 0.00771495 0.03065128 0.01389019\n",
      " 0.05643838]\n"
     ]
    }
   ],
   "source": [
    "# Rsq\n",
    "partial_rsqs = partial_SSRs / sst\n",
    "sum(partial_rsqs)\n",
    "print(partial_rsqs)"
   ]
  },
  {
   "cell_type": "markdown",
   "metadata": {},
   "source": [
    "Some dimensions in this subspace matter more than others. We can do approximately the same regression with less than p features. Let's try this:"
   ]
  },
  {
   "cell_type": "code",
   "execution_count": 30,
   "metadata": {},
   "outputs": [
    {
     "name": "stdout",
     "output_type": "stream",
     "text": [
      "[0.25606426 0.15078047 0.08320797 0.05972513 0.05643838 0.0416586\n",
      " 0.03581415 0.03065128 0.01389019 0.00771495 0.0021132  0.00178498\n",
      " 0.00079909]\n"
     ]
    }
   ],
   "source": [
    "# sort\n",
    "partial_rsqs_sorted = np.sort(partial_rsqs)[::-1] # descending\n",
    "print(partial_rsqs_sorted)"
   ]
  },
  {
   "cell_type": "code",
   "execution_count": 31,
   "metadata": {},
   "outputs": [
    {
     "data": {
      "text/plain": [
       "array([ 5,  0,  1,  2, 12,  7,  3, 10, 11,  9,  6,  4,  8], dtype=int64)"
      ]
     },
     "execution_count": 31,
     "metadata": {},
     "output_type": "execute_result"
    }
   ],
   "source": [
    "# get indices of sort\n",
    "partial_rsqs_sorted_indices = np.argsort(partial_rsqs)[::-1]\n",
    "partial_rsqs_sorted_indices"
   ]
  },
  {
   "cell_type": "code",
   "execution_count": 32,
   "metadata": {},
   "outputs": [
    {
     "name": "stdout",
     "output_type": "stream",
     "text": [
      "[0.25606426 0.40684473 0.4900527  0.54977783 0.60621622 0.64787482\n",
      " 0.68368897 0.71434025 0.72823045 0.7359454  0.73805859 0.73984357\n",
      " 0.74064266]\n"
     ]
    }
   ],
   "source": [
    "# cumulative sum\n",
    "partial_Rsqs_sorted_cumul = np.cumsum(partial_rsqs_sorted)\n",
    "print(partial_Rsqs_sorted_cumul)"
   ]
  },
  {
   "cell_type": "code",
   "execution_count": 33,
   "metadata": {
    "scrolled": true
   },
   "outputs": [
    {
     "data": {
      "text/html": [
       "<div>\n",
       "<style scoped>\n",
       "    .dataframe tbody tr th:only-of-type {\n",
       "        vertical-align: middle;\n",
       "    }\n",
       "\n",
       "    .dataframe tbody tr th {\n",
       "        vertical-align: top;\n",
       "    }\n",
       "\n",
       "    .dataframe thead th {\n",
       "        text-align: right;\n",
       "    }\n",
       "</style>\n",
       "<table border=\"1\" class=\"dataframe\">\n",
       "  <thead>\n",
       "    <tr style=\"text-align: right;\">\n",
       "      <th></th>\n",
       "      <th>0</th>\n",
       "      <th>1</th>\n",
       "      <th>2</th>\n",
       "      <th>3</th>\n",
       "      <th>4</th>\n",
       "      <th>5</th>\n",
       "      <th>6</th>\n",
       "      <th>7</th>\n",
       "      <th>8</th>\n",
       "      <th>9</th>\n",
       "      <th>10</th>\n",
       "      <th>11</th>\n",
       "      <th>12</th>\n",
       "    </tr>\n",
       "  </thead>\n",
       "  <tbody>\n",
       "    <tr>\n",
       "      <th>0</th>\n",
       "      <td>0.055557</td>\n",
       "      <td>-0.044455</td>\n",
       "      <td>-0.018662</td>\n",
       "      <td>0.009106</td>\n",
       "      <td>-0.004993</td>\n",
       "      <td>-0.013978</td>\n",
       "      <td>-0.057667</td>\n",
       "      <td>0.055974</td>\n",
       "      <td>-0.038282</td>\n",
       "      <td>-0.030550</td>\n",
       "      <td>-0.001676</td>\n",
       "      <td>-0.008303</td>\n",
       "      <td>0.019657</td>\n",
       "    </tr>\n",
       "    <tr>\n",
       "      <th>1</th>\n",
       "      <td>-0.026929</td>\n",
       "      <td>-0.044455</td>\n",
       "      <td>-0.018553</td>\n",
       "      <td>-0.025928</td>\n",
       "      <td>-0.001713</td>\n",
       "      <td>-0.049516</td>\n",
       "      <td>-0.039076</td>\n",
       "      <td>-0.015651</td>\n",
       "      <td>-0.021045</td>\n",
       "      <td>-0.021991</td>\n",
       "      <td>0.005421</td>\n",
       "      <td>-0.011665</td>\n",
       "      <td>-0.039188</td>\n",
       "    </tr>\n",
       "    <tr>\n",
       "      <th>2</th>\n",
       "      <td>-0.026929</td>\n",
       "      <td>-0.044455</td>\n",
       "      <td>-0.018553</td>\n",
       "      <td>-0.025928</td>\n",
       "      <td>-0.001465</td>\n",
       "      <td>-0.001655</td>\n",
       "      <td>-0.039076</td>\n",
       "      <td>-0.008740</td>\n",
       "      <td>-0.003960</td>\n",
       "      <td>-0.028975</td>\n",
       "      <td>0.059051</td>\n",
       "      <td>-0.011665</td>\n",
       "      <td>-0.037163</td>\n",
       "    </tr>\n",
       "    <tr>\n",
       "      <th>3</th>\n",
       "      <td>-0.001935</td>\n",
       "      <td>-0.044455</td>\n",
       "      <td>-0.018527</td>\n",
       "      <td>-0.025922</td>\n",
       "      <td>-0.000271</td>\n",
       "      <td>0.025673</td>\n",
       "      <td>-0.079319</td>\n",
       "      <td>-0.008083</td>\n",
       "      <td>0.021435</td>\n",
       "      <td>-0.008671</td>\n",
       "      <td>0.034898</td>\n",
       "      <td>-0.008569</td>\n",
       "      <td>-0.054818</td>\n",
       "    </tr>\n",
       "    <tr>\n",
       "      <th>4</th>\n",
       "      <td>-0.001978</td>\n",
       "      <td>-0.044455</td>\n",
       "      <td>-0.018337</td>\n",
       "      <td>-0.025883</td>\n",
       "      <td>-0.001609</td>\n",
       "      <td>0.005504</td>\n",
       "      <td>-0.079395</td>\n",
       "      <td>-0.007774</td>\n",
       "      <td>0.021662</td>\n",
       "      <td>-0.008885</td>\n",
       "      <td>0.045372</td>\n",
       "      <td>-0.008550</td>\n",
       "      <td>-0.063453</td>\n",
       "    </tr>\n",
       "    <tr>\n",
       "      <th>...</th>\n",
       "      <td>...</td>\n",
       "      <td>...</td>\n",
       "      <td>...</td>\n",
       "      <td>...</td>\n",
       "      <td>...</td>\n",
       "      <td>...</td>\n",
       "      <td>...</td>\n",
       "      <td>...</td>\n",
       "      <td>...</td>\n",
       "      <td>...</td>\n",
       "      <td>...</td>\n",
       "      <td>...</td>\n",
       "      <td>...</td>\n",
       "    </tr>\n",
       "    <tr>\n",
       "      <th>501</th>\n",
       "      <td>0.006000</td>\n",
       "      <td>-0.044455</td>\n",
       "      <td>-0.018370</td>\n",
       "      <td>-0.025890</td>\n",
       "      <td>-0.003935</td>\n",
       "      <td>0.013152</td>\n",
       "      <td>0.000838</td>\n",
       "      <td>-0.007627</td>\n",
       "      <td>0.102378</td>\n",
       "      <td>-0.059726</td>\n",
       "      <td>0.026903</td>\n",
       "      <td>-0.014722</td>\n",
       "      <td>0.033675</td>\n",
       "    </tr>\n",
       "    <tr>\n",
       "      <th>502</th>\n",
       "      <td>0.006021</td>\n",
       "      <td>-0.044455</td>\n",
       "      <td>-0.018460</td>\n",
       "      <td>-0.025909</td>\n",
       "      <td>-0.005285</td>\n",
       "      <td>-0.007982</td>\n",
       "      <td>0.000874</td>\n",
       "      <td>-0.011393</td>\n",
       "      <td>0.093455</td>\n",
       "      <td>-0.055316</td>\n",
       "      <td>-0.006307</td>\n",
       "      <td>-0.014731</td>\n",
       "      <td>0.043001</td>\n",
       "    </tr>\n",
       "    <tr>\n",
       "      <th>503</th>\n",
       "      <td>0.006002</td>\n",
       "      <td>-0.044455</td>\n",
       "      <td>-0.018380</td>\n",
       "      <td>-0.025892</td>\n",
       "      <td>-0.006384</td>\n",
       "      <td>-0.039500</td>\n",
       "      <td>0.000842</td>\n",
       "      <td>-0.006519</td>\n",
       "      <td>0.104107</td>\n",
       "      <td>-0.059280</td>\n",
       "      <td>0.053788</td>\n",
       "      <td>-0.014723</td>\n",
       "      <td>0.024283</td>\n",
       "    </tr>\n",
       "    <tr>\n",
       "      <th>504</th>\n",
       "      <td>0.005945</td>\n",
       "      <td>-0.044455</td>\n",
       "      <td>-0.018127</td>\n",
       "      <td>-0.025840</td>\n",
       "      <td>-0.004464</td>\n",
       "      <td>-0.036109</td>\n",
       "      <td>0.000742</td>\n",
       "      <td>-0.007889</td>\n",
       "      <td>0.100717</td>\n",
       "      <td>-0.058872</td>\n",
       "      <td>0.041031</td>\n",
       "      <td>-0.014698</td>\n",
       "      <td>0.019041</td>\n",
       "    </tr>\n",
       "    <tr>\n",
       "      <th>505</th>\n",
       "      <td>0.006018</td>\n",
       "      <td>-0.044455</td>\n",
       "      <td>-0.018449</td>\n",
       "      <td>-0.025906</td>\n",
       "      <td>-0.005245</td>\n",
       "      <td>-0.018600</td>\n",
       "      <td>0.000870</td>\n",
       "      <td>-0.012627</td>\n",
       "      <td>0.090052</td>\n",
       "      <td>-0.054734</td>\n",
       "      <td>-0.012624</td>\n",
       "      <td>-0.014730</td>\n",
       "      <td>0.032165</td>\n",
       "    </tr>\n",
       "  </tbody>\n",
       "</table>\n",
       "<p>506 rows × 13 columns</p>\n",
       "</div>"
      ],
      "text/plain": [
       "           0         1         2         3         4         5         6   \\\n",
       "0    0.055557 -0.044455 -0.018662  0.009106 -0.004993 -0.013978 -0.057667   \n",
       "1   -0.026929 -0.044455 -0.018553 -0.025928 -0.001713 -0.049516 -0.039076   \n",
       "2   -0.026929 -0.044455 -0.018553 -0.025928 -0.001465 -0.001655 -0.039076   \n",
       "3   -0.001935 -0.044455 -0.018527 -0.025922 -0.000271  0.025673 -0.079319   \n",
       "4   -0.001978 -0.044455 -0.018337 -0.025883 -0.001609  0.005504 -0.079395   \n",
       "..        ...       ...       ...       ...       ...       ...       ...   \n",
       "501  0.006000 -0.044455 -0.018370 -0.025890 -0.003935  0.013152  0.000838   \n",
       "502  0.006021 -0.044455 -0.018460 -0.025909 -0.005285 -0.007982  0.000874   \n",
       "503  0.006002 -0.044455 -0.018380 -0.025892 -0.006384 -0.039500  0.000842   \n",
       "504  0.005945 -0.044455 -0.018127 -0.025840 -0.004464 -0.036109  0.000742   \n",
       "505  0.006018 -0.044455 -0.018449 -0.025906 -0.005245 -0.018600  0.000870   \n",
       "\n",
       "           7         8         9         10        11        12  \n",
       "0    0.055974 -0.038282 -0.030550 -0.001676 -0.008303  0.019657  \n",
       "1   -0.015651 -0.021045 -0.021991  0.005421 -0.011665 -0.039188  \n",
       "2   -0.008740 -0.003960 -0.028975  0.059051 -0.011665 -0.037163  \n",
       "3   -0.008083  0.021435 -0.008671  0.034898 -0.008569 -0.054818  \n",
       "4   -0.007774  0.021662 -0.008885  0.045372 -0.008550 -0.063453  \n",
       "..        ...       ...       ...       ...       ...       ...  \n",
       "501 -0.007627  0.102378 -0.059726  0.026903 -0.014722  0.033675  \n",
       "502 -0.011393  0.093455 -0.055316 -0.006307 -0.014731  0.043001  \n",
       "503 -0.006519  0.104107 -0.059280  0.053788 -0.014723  0.024283  \n",
       "504 -0.007889  0.100717 -0.058872  0.041031 -0.014698  0.019041  \n",
       "505 -0.012627  0.090052 -0.054734 -0.012624 -0.014730  0.032165  \n",
       "\n",
       "[506 rows x 13 columns]"
      ]
     },
     "execution_count": 33,
     "metadata": {},
     "output_type": "execute_result"
    }
   ],
   "source": [
    "# sort Q by Rsq\n",
    "Q_reduced = [Q[:, i] for i in partial_rsqs_sorted_indices]\n",
    "\n",
    "\n",
    "Q_reduced = pd.DataFrame(Q_reduced).transpose() # DataFrame's can be transposed\n",
    "Q_reduced"
   ]
  },
  {
   "cell_type": "code",
   "execution_count": 34,
   "metadata": {},
   "outputs": [
    {
     "data": {
      "text/plain": [
       "0.684204268675316"
      ]
     },
     "execution_count": 34,
     "metadata": {},
     "output_type": "execute_result"
    }
   ],
   "source": [
    "from sklearn.linear_model import LinearRegression\n",
    "model = LinearRegression()\n",
    "\n",
    "model.fit(Q_reduced, y)\n",
    "\n",
    "# Print R^2\n",
    "model.score(Q_reduced, y)"
   ]
  }
 ],
 "metadata": {
  "kernelspec": {
   "display_name": "Python 3 (ipykernel)",
   "language": "python",
   "name": "python3"
  },
  "language_info": {
   "codemirror_mode": {
    "name": "ipython",
    "version": 3
   },
   "file_extension": ".py",
   "mimetype": "text/x-python",
   "name": "python",
   "nbconvert_exporter": "python",
   "pygments_lexer": "ipython3",
   "version": "3.9.7"
  }
 },
 "nbformat": 4,
 "nbformat_minor": 4
}
